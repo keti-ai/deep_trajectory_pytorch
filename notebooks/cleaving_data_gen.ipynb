{
 "cells": [
  {
   "cell_type": "code",
   "execution_count": 5,
   "id": "02ca1170-8ef1-4109-a0ac-147280d45638",
   "metadata": {},
   "outputs": [],
   "source": [
    "# 기존 데이타 load\n",
    "import os\n",
    "\n",
    "dir = \"/media/syh/ssd2/data/MOT16\"\n",
    "\n",
    "'''\n",
    "MOT16\n",
    "ㄴtrain\n",
    "  ㄴMOT16-13\n",
    "    ㄴdet\n",
    "      ㄴdet.txt\n",
    "        <frame>,<id>,<bb_left>,<bb_top>,<bb_width>,<bb_height>,<conf>,<x>,<y>,<z>\n",
    "    ㄴgt\n",
    "      ㄴgt.txt\n",
    "        frame, id, left, top, width, height, conf\n",
    "        1,1,1376,485,37,28,0,11,1\n",
    "        2,1,1379,486,37,28,0,11,1\n",
    "        ...\n",
    "    ㄴimg1\n",
    "      ㄴ000001.jpg\n",
    "      ㄴ000002.jpg\n",
    "      ...\n",
    "      ㄴ000750.jpg\n",
    "    seqinfo.ini\n",
    "        [Sequence]\n",
    "        name=MOT16-13\n",
    "        imDir=img1\n",
    "        frameRate=25\n",
    "        seqLength=750\n",
    "        imWidth=1920\n",
    "        imHeight=1080\n",
    "        imExt=.jpg\n",
    "\n",
    "  ㄴMOT16-11\n",
    "  ㄴMOT16-10\n",
    "  ㄴMOT16-09\n",
    "  ㄴMOT16-05\n",
    "  ㄴMOT16-04\n",
    "  ㄴMOT16-02\n",
    "ㄴtest\n",
    "  ㄴMOT16-01\n",
    "  ㄴMOT16-03\n",
    "  ㄴMOT16-06\n",
    "  ㄴMOT16-07\n",
    "  ㄴMOT16-08\n",
    "  ㄴMOT16-12\n",
    "  ㄴMOT16-14\n",
    "ㄴimages\n",
    "ㄴlabels_with_ids\n",
    "'''\n"
   ]
  },
  {
   "cell_type": "code",
   "execution_count": 6,
   "id": "93a309de-a307-4a82-a5ac-7436d2c4541e",
   "metadata": {
    "tags": []
   },
   "outputs": [
    {
     "data": {
      "text/plain": [
       "['test', 'labels_with_ids', 'images', 'train']"
      ]
     },
     "execution_count": 6,
     "metadata": {},
     "output_type": "execute_result"
    }
   ],
   "source": [
    "os.listdir(dir)"
   ]
  },
  {
   "cell_type": "code",
   "execution_count": null,
   "id": "792144b8-ed7d-4ca2-b945-2ff4c72a61ba",
   "metadata": {},
   "outputs": [],
   "source": []
  },
  {
   "cell_type": "code",
   "execution_count": null,
   "id": "6f48467b-f6f3-4739-a91c-3a9a0a4f4c89",
   "metadata": {},
   "outputs": [],
   "source": []
  },
  {
   "cell_type": "code",
   "execution_count": null,
   "id": "b9f28d66-11d3-4d63-96f2-d19e56c9859f",
   "metadata": {},
   "outputs": [],
   "source": []
  },
  {
   "cell_type": "code",
   "execution_count": null,
   "id": "7c0e2664-d91d-4361-9f37-6f5722f54edb",
   "metadata": {},
   "outputs": [],
   "source": [
    "# Tracklet format 정의\n"
   ]
  },
  {
   "cell_type": "code",
   "execution_count": null,
   "id": "c8de1610-7f66-4abe-aef8-b1851c98cd0a",
   "metadata": {},
   "outputs": [],
   "source": [
    "\n",
    "# error tracklet 생성\n"
   ]
  },
  {
   "cell_type": "code",
   "execution_count": null,
   "id": "18720439-33c7-413f-8510-618485b2de7e",
   "metadata": {},
   "outputs": [],
   "source": [
    "\n",
    "# 정상 tracklet 생성\n"
   ]
  },
  {
   "cell_type": "code",
   "execution_count": null,
   "id": "92307b97-0128-452f-aaec-3c8176c8c250",
   "metadata": {},
   "outputs": [],
   "source": [
    "\n",
    "# file write"
   ]
  },
  {
   "cell_type": "code",
   "execution_count": null,
   "id": "5f93f5d4-867a-41a3-bc65-016f4fc20711",
   "metadata": {},
   "outputs": [],
   "source": []
  }
 ],
 "metadata": {
  "kernelspec": {
   "display_name": "deep_traj",
   "language": "python",
   "name": "deep_traj"
  },
  "language_info": {
   "codemirror_mode": {
    "name": "ipython",
    "version": 3
   },
   "file_extension": ".py",
   "mimetype": "text/x-python",
   "name": "python",
   "nbconvert_exporter": "python",
   "pygments_lexer": "ipython3",
   "version": "3.8.16"
  }
 },
 "nbformat": 4,
 "nbformat_minor": 5
}
