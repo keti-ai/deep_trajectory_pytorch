{
 "cells": [
  {
   "cell_type": "code",
   "execution_count": 1,
   "id": "02ca1170-8ef1-4109-a0ac-147280d45638",
   "metadata": {},
   "outputs": [
    {
     "data": {
      "text/plain": [
       "'\\nMOT16\\nㄴtrain\\n  ㄴMOT16-13\\n    ㄴdet\\n      ㄴdet.txt\\n        <frame>,<id>,<bb_left>,<bb_top>,<bb_width>,<bb_height>,<conf>,<x>,<y>,<z>\\n    ㄴgt\\n      ㄴgt.txt\\n        frame, id, left, top, width, height, conf\\n        1,1,1376,485,37,28,0,11,1\\n        2,1,1379,486,37,28,0,11,1\\n        ...\\n    ㄴimg1\\n      ㄴ000001.jpg\\n      ㄴ000002.jpg\\n      ...\\n      ㄴ000750.jpg\\n      \\n    seqinfo.ini\\n        [Sequence]\\n        name=MOT16-13\\n        imDir=img1\\n        frameRate=25\\n        seqLength=750\\n        imWidth=1920\\n        imHeight=1080\\n        imExt=.jpg\\n\\n  ㄴMOT16-11\\n  ㄴMOT16-10\\n  ㄴMOT16-09\\n  ㄴMOT16-05\\n  ㄴMOT16-04\\n  ㄴMOT16-02\\nㄴtest\\n  ㄴMOT16-01\\n  ㄴMOT16-03\\n  ㄴMOT16-06\\n  ㄴMOT16-07\\n  ㄴMOT16-08\\n  ㄴMOT16-12\\n  ㄴMOT16-14\\nㄴimages\\nㄴlabels_with_ids\\n'"
      ]
     },
     "execution_count": 1,
     "metadata": {},
     "output_type": "execute_result"
    }
   ],
   "source": [
    "# 기존 데이타 load\n",
    "import os\n",
    "\n",
    "dirr = \"/media/syh/ssd2/data/MOT16\"\n",
    "dirs = \"/media/syh/ssd2/data/ReID/bounding_box_train\"\n",
    "list_bbox=os.listdir(dirs)\n",
    "list_bbox.sort()\n",
    "\n",
    "'''\n",
    "MOT16\n",
    "ㄴtrain\n",
    "  ㄴMOT16-13\n",
    "    ㄴdet\n",
    "      ㄴdet.txt\n",
    "        <frame>,<id>,<bb_left>,<bb_top>,<bb_width>,<bb_height>,<conf>,<x>,<y>,<z>\n",
    "    ㄴgt\n",
    "      ㄴgt.txt\n",
    "        frame, id, left, top, width, height, conf\n",
    "        1,1,1376,485,37,28,0,11,1\n",
    "        2,1,1379,486,37,28,0,11,1\n",
    "        ...\n",
    "    ㄴimg1\n",
    "      ㄴ000001.jpg\n",
    "      ㄴ000002.jpg\n",
    "      ...\n",
    "      ㄴ000750.jpg\n",
    "      \n",
    "    seqinfo.ini\n",
    "        [Sequence]\n",
    "        name=MOT16-13\n",
    "        imDir=img1\n",
    "        frameRate=25\n",
    "        seqLength=750\n",
    "        imWidth=1920\n",
    "        imHeight=1080\n",
    "        imExt=.jpg\n",
    "\n",
    "  ㄴMOT16-11\n",
    "  ㄴMOT16-10\n",
    "  ㄴMOT16-09\n",
    "  ㄴMOT16-05\n",
    "  ㄴMOT16-04\n",
    "  ㄴMOT16-02\n",
    "ㄴtest\n",
    "  ㄴMOT16-01\n",
    "  ㄴMOT16-03\n",
    "  ㄴMOT16-06\n",
    "  ㄴMOT16-07\n",
    "  ㄴMOT16-08\n",
    "  ㄴMOT16-12\n",
    "  ㄴMOT16-14\n",
    "ㄴimages\n",
    "ㄴlabels_with_ids\n",
    "'''\n"
   ]
  },
  {
   "cell_type": "code",
   "execution_count": 210,
   "id": "3332899d-8495-46df-8048-20824e4fc7c5",
   "metadata": {
    "tags": []
   },
   "outputs": [
    {
     "data": {
      "text/plain": [
       "'000001_c100_20221201181334_mp4_100.jpg'"
      ]
     },
     "execution_count": 210,
     "metadata": {},
     "output_type": "execute_result"
    }
   ],
   "source": [
    "list_bbox[0]"
   ]
  },
  {
   "cell_type": "code",
   "execution_count": 108,
   "id": "e2772311-4788-4143-b278-e7cf1a1ceed3",
   "metadata": {
    "tags": []
   },
   "outputs": [],
   "source": [
    "class bbox():\n",
    "    def __init__(self,url,id_,cam,proj,ext_,frame):\n",
    "        self.id=int(id_)\n",
    "        self.cam=int(cam[1:])\n",
    "        self.proj=proj\n",
    "        self.ext_=ext_\n",
    "        self.frame=int(frame)\n",
    "        self.url=url\n",
    "    # def __repr__(self):\n",
    "    #     return '_'.join([str(self.id),str(self.cam),self.proj,self.ext_,str(self.frame)])\n",
    "    def __repr__(self):\n",
    "        return self.url\n",
    "    def get_frame(self):\n",
    "        return self.frame\n",
    "    def get_id(self):\n",
    "        return self.id\n",
    "    def get_cam(self):\n",
    "        return self.cam\n",
    "    def get_proj(self):\n",
    "        return self.proj\n",
    "    def __lt__(self, other):\n",
    "        if type(other) !=bbox:\n",
    "            return self.get_frame()<other\n",
    "        else:\n",
    "            return self.get_frame() < other.get_frame()\n",
    "\n",
    "    def __le__(self, other):\n",
    "        return self.get_frame() <= other.get_frame()\n",
    "\n",
    "    def __gt__(self, other):\n",
    "        return self.get_frame() > other.get_frame()\n",
    "\n",
    "    def __ge__(self, other):\n",
    "        return self.get_frame() <= other.get_frame()\n",
    "\n",
    "    def __eq__(self, other):\n",
    "        return self.get_frame() == other.get_frame()\n",
    "\n",
    "tracklet_id=0\n",
    "\n",
    "class Tracklet():\n",
    "    def __init__(self,id_,cam,proj,init_box,duration,length):\n",
    "        self.length=length\n",
    "        # tracklet_id +=1\n",
    "        self.tracklet_id=tracklet_id\n",
    "        self.id=int(id_)\n",
    "        self.cam=int(cam)\n",
    "        self.proj=proj\n",
    "        self.dur=duration\n",
    "        # self.ext_=ext_\n",
    "        # self.frame=int(frame)\n",
    "        # self.url=url\n",
    "        self.bbox=[init_box]\n",
    "    \n",
    "    def __getitem__(self,idx):\n",
    "        return self.bbox[idx]\n",
    "    def get_tr_id(self):\n",
    "        return self.tracklet_id\n",
    "    def __len__(self):\n",
    "        return len(self.bbox)\n",
    "    def add_bbox(self,bbox):\n",
    "        if bbox.get_id()!=self.id or bbox.get_cam()!=self.cam or len(self)>=120:\n",
    "            return False\n",
    "        else:\n",
    "            if self.bbox[-1]<bbox and self.bbox[-1].get_frame()+self.dur>bbox:\n",
    "                self.bbox.append(bbox)\n",
    "            else:\n",
    "                return False\n",
    "        self.bbox.sort()\n",
    "        return True\n",
    "    \n",
    "    def get_id(self):\n",
    "        return self.id\n",
    "    \n",
    "    def get_bboxes(self):\n",
    "        return self.bbox\n",
    "\n",
    "bbox_list=[]\n",
    "for li in list_bbox:\n",
    "    bbox_list.append(bbox(li,*li.split(\".\")[0].split(\"_\")))\n",
    "    \n",
    "bbox_list.sort() \n"
   ]
  },
  {
   "cell_type": "code",
   "execution_count": null,
   "id": "d626f9b2-7a96-4752-a49c-fd3b60883789",
   "metadata": {
    "tags": []
   },
   "outputs": [],
   "source": []
  },
  {
   "cell_type": "code",
   "execution_count": 109,
   "id": "47cc8f82-45bd-4cca-8338-75e259b64c02",
   "metadata": {
    "tags": []
   },
   "outputs": [
    {
     "name": "stdout",
     "output_type": "stream",
     "text": [
      "Make Initial Tracklets ...\n",
      "Tracklet Delay Frame :  50\n",
      "Gen initial Tracklet :  2212\n"
     ]
    }
   ],
   "source": [
    "tracklet_id=0\n",
    "length = 120\n",
    "delay = 50 #duration == 프레임간 같은 트랙이라고 용인할 frame 차이\n",
    "tracklets=[Tracklet(bbox_list[0].get_id(),bbox_list[0].get_cam(),bbox_list[0].get_proj(),bbox_list[0],delay,length)]\n",
    "print(\"Make Initial Tracklets ...\")\n",
    "print(\"Tracklet Delay Frame : \", delay)\n",
    "for bb in bbox_list:\n",
    "    is_add=False\n",
    "    for tracklet in tracklets:\n",
    "        if tracklet.add_bbox(bb):\n",
    "            is_add=True\n",
    "            break\n",
    "    if is_add:\n",
    "        continue\n",
    "    tracklets.append(Tracklet(bb.get_id(),bb.get_cam(),bb.get_proj(),bb,delay,length))\n",
    "    tracklet_id+=1\n",
    "print(\"Gen initial Tracklet : \",tracklet_id)\n",
    "   "
   ]
  },
  {
   "cell_type": "code",
   "execution_count": 111,
   "id": "db5421a3-7412-4a20-8a88-785004193785",
   "metadata": {
    "tags": []
   },
   "outputs": [],
   "source": [
    "track_120=[]\n",
    "pos_track=[]\n",
    "neg_track=[]\n",
    "\n",
    " \n"
   ]
  },
  {
   "cell_type": "code",
   "execution_count": 112,
   "id": "a12b9804-1894-43e7-a03d-267d487cd049",
   "metadata": {
    "tags": []
   },
   "outputs": [],
   "source": [
    "for tr in tracklets:\n",
    "    if len(tr)==120:\n",
    "        track_120.append(tr)"
   ]
  },
  {
   "cell_type": "code",
   "execution_count": 121,
   "id": "d9e48141-2cc6-4179-b5cc-eacb795e5dc4",
   "metadata": {
    "tags": []
   },
   "outputs": [
    {
     "data": {
      "text/plain": [
       "<__main__.Tracklet at 0x7f4e82ecfe20>"
      ]
     },
     "execution_count": 121,
     "metadata": {},
     "output_type": "execute_result"
    }
   ],
   "source": [
    "track_120[200]"
   ]
  },
  {
   "cell_type": "code",
   "execution_count": 122,
   "id": "385cf634-c830-441e-a908-cea077e3b481",
   "metadata": {
    "tags": []
   },
   "outputs": [
    {
     "data": {
      "text/plain": [
       "396"
      ]
     },
     "execution_count": 122,
     "metadata": {},
     "output_type": "execute_result"
    }
   ],
   "source": [
    "len(track_120)"
   ]
  },
  {
   "cell_type": "code",
   "execution_count": 127,
   "id": "d3f68959-d2ca-40da-b651-5c43cfa82be8",
   "metadata": {
    "tags": []
   },
   "outputs": [],
   "source": [
    "trkee=track_120[200].get_bboxes()"
   ]
  },
  {
   "cell_type": "code",
   "execution_count": 129,
   "id": "3b7b0483-b240-4ee1-a344-b21a39e6580b",
   "metadata": {
    "tags": []
   },
   "outputs": [
    {
     "data": {
      "text/plain": [
       "__main__.bbox"
      ]
     },
     "execution_count": 129,
     "metadata": {},
     "output_type": "execute_result"
    }
   ],
   "source": [
    "type(trkee[0])"
   ]
  },
  {
   "cell_type": "code",
   "execution_count": 130,
   "id": "b84c10aa-2da3-477a-b78e-5d66a1f4743f",
   "metadata": {
    "tags": []
   },
   "outputs": [],
   "source": [
    "aaa=[1,2,3,4,5]"
   ]
  },
  {
   "cell_type": "code",
   "execution_count": 131,
   "id": "134c38a4-4c9d-41b9-8d33-3e26a239701d",
   "metadata": {
    "tags": []
   },
   "outputs": [],
   "source": [
    "aa=aaa.pop()"
   ]
  },
  {
   "cell_type": "code",
   "execution_count": 132,
   "id": "034367e9-59ba-46a6-a6f1-67c199869785",
   "metadata": {
    "tags": []
   },
   "outputs": [
    {
     "data": {
      "text/plain": [
       "5"
      ]
     },
     "execution_count": 132,
     "metadata": {},
     "output_type": "execute_result"
    }
   ],
   "source": [
    "aa"
   ]
  },
  {
   "cell_type": "code",
   "execution_count": 142,
   "id": "a15b6134-803f-4e7b-90df-456cc83e856b",
   "metadata": {
    "tags": []
   },
   "outputs": [],
   "source": [
    "a=list(range(1,121))\n"
   ]
  },
  {
   "cell_type": "code",
   "execution_count": null,
   "id": "8077a67f-ce40-432c-bf3b-3091458cd8c8",
   "metadata": {
    "tags": []
   },
   "outputs": [],
   "source": []
  },
  {
   "cell_type": "code",
   "execution_count": 64,
   "id": "68ba5bf6-c520-4d5d-84f7-df41219f64a9",
   "metadata": {
    "tags": []
   },
   "outputs": [
    {
     "data": {
      "text/plain": [
       "2213"
      ]
     },
     "execution_count": 64,
     "metadata": {},
     "output_type": "execute_result"
    }
   ],
   "source": [
    "tracklets"
   ]
  },
  {
   "cell_type": "code",
   "execution_count": 59,
   "id": "0d4165a9-b0fe-439d-9522-8131c3f03fa3",
   "metadata": {
    "tags": []
   },
   "outputs": [
    {
     "data": {
      "text/plain": [
       "31"
      ]
     },
     "execution_count": 59,
     "metadata": {},
     "output_type": "execute_result"
    }
   ],
   "source": [
    "tracklets[0].__len__()"
   ]
  },
  {
   "cell_type": "code",
   "execution_count": 6,
   "id": "3371bd5a-8d8d-41f8-b21e-94e7e151384f",
   "metadata": {
    "tags": []
   },
   "outputs": [
    {
     "data": {
      "text/plain": [
       "False"
      ]
     },
     "execution_count": 6,
     "metadata": {},
     "output_type": "execute_result"
    }
   ],
   "source": [
    "tracklets"
   ]
  },
  {
   "cell_type": "code",
   "execution_count": 65,
   "id": "ad1744e0-c0bc-4cb2-8998-8855ca281c07",
   "metadata": {
    "tags": []
   },
   "outputs": [],
   "source": [
    "counter=0\n",
    "len_list=[]\n",
    "for tr in tracklets:\n",
    "    counter+=len(tr)\n",
    "    len_list.append(len(tr))"
   ]
  },
  {
   "cell_type": "code",
   "execution_count": 70,
   "id": "d37c972f-e622-441c-8ce3-281d4264fd3b",
   "metadata": {
    "tags": []
   },
   "outputs": [
    {
     "data": {
      "text/plain": [
       "396"
      ]
     },
     "execution_count": 70,
     "metadata": {},
     "output_type": "execute_result"
    }
   ],
   "source": [
    "sum([li==120 for li in len_list])"
   ]
  },
  {
   "cell_type": "code",
   "execution_count": 27,
   "id": "623cb690-cfd8-4272-a400-42c54661b29c",
   "metadata": {
    "tags": []
   },
   "outputs": [],
   "source": [
    "import numpy as np"
   ]
  },
  {
   "cell_type": "code",
   "execution_count": 71,
   "id": "e9278618-812e-4fe1-b9ae-e37294c19107",
   "metadata": {
    "tags": []
   },
   "outputs": [
    {
     "data": {
      "text/plain": [
       "(array([452, 367, 272, 224, 133, 122,  86,  70,  49, 438]),\n",
       " array([  1. ,  12.9,  24.8,  36.7,  48.6,  60.5,  72.4,  84.3,  96.2,\n",
       "        108.1, 120. ]))"
      ]
     },
     "execution_count": 71,
     "metadata": {},
     "output_type": "execute_result"
    }
   ],
   "source": [
    "np.histogram(len_list)"
   ]
  },
  {
   "cell_type": "code",
   "execution_count": 72,
   "id": "3a1f3da1-d277-4072-87ad-f9b9115c0f8d",
   "metadata": {
    "tags": []
   },
   "outputs": [],
   "source": [
    "import matplotlib.pyplot as plt"
   ]
  },
  {
   "cell_type": "code",
   "execution_count": 94,
   "id": "5b82b4ae-6fd8-418f-b7c1-c9d1fda888c9",
   "metadata": {
    "tags": []
   },
   "outputs": [
    {
     "data": {
      "text/plain": [
       "(array([ 56.,  47.,  32.,  33.,  35.,  43.,  30.,  29.,  30.,  30.,  35.,\n",
       "         52.,  29.,  36.,  31.,  33.,  29.,  33.,  32.,  32.,  23.,  31.,\n",
       "         33.,  25.,  27.,  21.,  15.,  28.,  24.,  30.,  25.,  15.,  21.,\n",
       "         24.,  18.,  24.,  25.,  16.,  18.,  30.,  16.,  17.,  17.,  14.,\n",
       "         17.,  18.,  19.,  17.,  17.,  13.,   9.,  13.,   7.,  18.,   4.,\n",
       "         13.,  11.,   7.,  13.,   8.,  16.,  10.,  11.,   7.,   7.,  10.,\n",
       "          8.,  13.,   9.,  12.,  10.,   9.,  11.,   3.,   7.,   8.,   5.,\n",
       "          9.,   7.,   7.,   5.,  11.,   6.,   7.,   3.,   6.,   5.,   3.,\n",
       "         10.,   6.,   6.,   7.,   3.,   8.,   2.,  11.,   4.,   9.,   4.,\n",
       "          2.,   2.,   3.,   3.,   5.,   2.,   6.,   2.,   7.,   5.,   4.,\n",
       "          5.,   3.,   5.,   4.,   6.,   3.,   2.,   1.,   4., 396.]),\n",
       " array([  1.,   2.,   3.,   4.,   5.,   6.,   7.,   8.,   9.,  10.,  11.,\n",
       "         12.,  13.,  14.,  15.,  16.,  17.,  18.,  19.,  20.,  21.,  22.,\n",
       "         23.,  24.,  25.,  26.,  27.,  28.,  29.,  30.,  31.,  32.,  33.,\n",
       "         34.,  35.,  36.,  37.,  38.,  39.,  40.,  41.,  42.,  43.,  44.,\n",
       "         45.,  46.,  47.,  48.,  49.,  50.,  51.,  52.,  53.,  54.,  55.,\n",
       "         56.,  57.,  58.,  59.,  60.,  61.,  62.,  63.,  64.,  65.,  66.,\n",
       "         67.,  68.,  69.,  70.,  71.,  72.,  73.,  74.,  75.,  76.,  77.,\n",
       "         78.,  79.,  80.,  81.,  82.,  83.,  84.,  85.,  86.,  87.,  88.,\n",
       "         89.,  90.,  91.,  92.,  93.,  94.,  95.,  96.,  97.,  98.,  99.,\n",
       "        100., 101., 102., 103., 104., 105., 106., 107., 108., 109., 110.,\n",
       "        111., 112., 113., 114., 115., 116., 117., 118., 119., 120., 121.]),\n",
       " <BarContainer object of 120 artists>)"
      ]
     },
     "execution_count": 94,
     "metadata": {},
     "output_type": "execute_result"
    },
    {
     "data": {
      "image/png": "[encoded data removed]",
      "text/plain": [
       "<Figure size 640x480 with 1 Axes>"
      ]
     },
     "metadata": {},
     "output_type": "display_data"
    }
   ],
   "source": [
    "A,B=np.histogram(len_list,range=(1,121),bins=120)\n",
    "plt.hist(len_list,bins=B)"
   ]
  },
  {
   "cell_type": "code",
   "execution_count": 28,
   "id": "7295c338-0738-4489-ab68-f8e541de6d3d",
   "metadata": {
    "tags": []
   },
   "outputs": [],
   "source": [
    "counter_120=0\n",
    "for tr in tracklets:\n",
    "    if len(tr)>=120:\n",
    "        counter_120+=1"
   ]
  },
  {
   "cell_type": "code",
   "execution_count": 29,
   "id": "967491ed-3ab7-45cc-abce-c3519acf5a8f",
   "metadata": {
    "tags": []
   },
   "outputs": [
    {
     "data": {
      "text/plain": [
       "103"
      ]
     },
     "execution_count": 29,
     "metadata": {},
     "output_type": "execute_result"
    }
   ],
   "source": [
    "counter_120"
   ]
  },
  {
   "cell_type": "code",
   "execution_count": 19,
   "id": "9f381c98-44fa-49c8-b6de-0f16cb69dbe2",
   "metadata": {
    "tags": []
   },
   "outputs": [
    {
     "data": {
      "text/plain": [
       "168"
      ]
     },
     "execution_count": 19,
     "metadata": {},
     "output_type": "execute_result"
    }
   ],
   "source": [
    "len(tracklets)"
   ]
  },
  {
   "cell_type": "code",
   "execution_count": 4,
   "id": "64daf794-28d9-4500-acdd-42d2f2170031",
   "metadata": {
    "tags": []
   },
   "outputs": [
    {
     "data": {
      "text/plain": [
       "[<__main__.Tracklet at 0x7f82b38f7e80>]"
      ]
     },
     "execution_count": 4,
     "metadata": {},
     "output_type": "execute_result"
    }
   ],
   "source": [
    "tracklets"
   ]
  },
  {
   "cell_type": "code",
   "execution_count": 7,
   "id": "de277b02-ec97-4037-8f8b-46d6c1f12968",
   "metadata": {
    "tags": []
   },
   "outputs": [
    {
     "data": {
      "text/plain": [
       "112981"
      ]
     },
     "execution_count": 7,
     "metadata": {},
     "output_type": "execute_result"
    }
   ],
   "source": [
    "tracklet_id"
   ]
  },
  {
   "cell_type": "code",
   "execution_count": null,
   "id": "44c8d963-b561-4d9b-a34b-6f625622f554",
   "metadata": {},
   "outputs": [],
   "source": [
    "tracks=[]\n",
    "for li in id_1:\n",
    "    "
   ]
  },
  {
   "cell_type": "code",
   "execution_count": 6,
   "id": "b9f28d66-11d3-4d63-96f2-d19e56c9859f",
   "metadata": {},
   "outputs": [],
   "source": [
    "id_list=[int(li[:6]) for li in list_bbox]"
   ]
  },
  {
   "cell_type": "code",
   "execution_count": 7,
   "id": "b36fc5fc-f1d8-449a-8a89-61eae3c62ba0",
   "metadata": {
    "tags": []
   },
   "outputs": [],
   "source": [
    "import numpy as np\n",
    "id_list=np.array(id_list)"
   ]
  },
  {
   "cell_type": "code",
   "execution_count": 8,
   "id": "15f3ed81-1c9f-4101-8638-e15daab5fcd2",
   "metadata": {
    "tags": []
   },
   "outputs": [],
   "source": [
    "id_set=set(id_list)"
   ]
  },
  {
   "cell_type": "code",
   "execution_count": 10,
   "id": "bcab33cb-cf78-48a1-a245-28f96604b57c",
   "metadata": {
    "tags": []
   },
   "outputs": [
    {
     "data": {
      "text/plain": [
       "22"
      ]
     },
     "execution_count": 10,
     "metadata": {},
     "output_type": "execute_result"
    }
   ],
   "source": [
    "id_set.__len__()"
   ]
  },
  {
   "cell_type": "code",
   "execution_count": 11,
   "id": "dbb0156e-27f4-4194-a323-5cd0fc612acc",
   "metadata": {},
   "outputs": [
    {
     "data": {
      "text/plain": [
       "{1, 2, 3, 4, 5, 6, 7, 8, 9, 10, 11, 12, 13, 14, 15, 16, 17, 18, 19, 20, 21, 22}"
      ]
     },
     "execution_count": 11,
     "metadata": {},
     "output_type": "execute_result"
    }
   ],
   "source": [
    "id_set"
   ]
  },
  {
   "cell_type": "code",
   "execution_count": 184,
   "id": "ecba67ba-1e3f-400e-a1eb-7efbc9cdc690",
   "metadata": {
    "tags": []
   },
   "outputs": [
    {
     "data": {
      "text/plain": [
       "'000001_c103_20221201181336_mp4_1.jpg'"
      ]
     },
     "execution_count": 184,
     "metadata": {},
     "output_type": "execute_result"
    }
   ],
   "source": [
    "str(bbox_list[0])"
   ]
  },
  {
   "cell_type": "code",
   "execution_count": null,
   "id": "7339f874-d4d1-4ba8-aadf-d8a1d29601cb",
   "metadata": {},
   "outputs": [],
   "source": [
    "frame_list = "
   ]
  },
  {
   "cell_type": "code",
   "execution_count": 179,
   "id": "2972022f-5091-45a4-9687-b1d1687c9a51",
   "metadata": {
    "tags": []
   },
   "outputs": [
    {
     "data": {
      "text/plain": [
       "list"
      ]
     },
     "execution_count": 179,
     "metadata": {},
     "output_type": "execute_result"
    }
   ],
   "source": [
    "type(list_bbox)"
   ]
  },
  {
   "cell_type": "code",
   "execution_count": null,
   "id": "7c0e2664-d91d-4361-9f37-6f5722f54edb",
   "metadata": {},
   "outputs": [],
   "source": [
    "# Tracklet format 정의\n"
   ]
  },
  {
   "cell_type": "code",
   "execution_count": null,
   "id": "c8de1610-7f66-4abe-aef8-b1851c98cd0a",
   "metadata": {},
   "outputs": [],
   "source": [
    "\n",
    "# error tracklet 생성\n"
   ]
  },
  {
   "cell_type": "code",
   "execution_count": null,
   "id": "18720439-33c7-413f-8510-618485b2de7e",
   "metadata": {},
   "outputs": [],
   "source": [
    "\n",
    "# 정상 tracklet 생성\n"
   ]
  },
  {
   "cell_type": "code",
   "execution_count": null,
   "id": "92307b97-0128-452f-aaec-3c8176c8c250",
   "metadata": {},
   "outputs": [],
   "source": [
    "\n",
    "# file write"
   ]
  },
  {
   "cell_type": "code",
   "execution_count": 185,
   "id": "5f93f5d4-867a-41a3-bc65-016f4fc20711",
   "metadata": {},
   "outputs": [
    {
     "name": "stderr",
     "output_type": "stream",
     "text": [
      "/home/syh/anaconda3/envs/deep_traj/lib/python3.8/site-packages/tqdm/auto.py:22: TqdmWarning: IProgress not found. Please update jupyter and ipywidgets. See https://ipywidgets.readthedocs.io/en/stable/user_install.html\n",
      "  from .autonotebook import tqdm as notebook_tqdm\n"
     ]
    }
   ],
   "source": [
    "import torch"
   ]
  },
  {
   "cell_type": "code",
   "execution_count": 186,
   "id": "f3079e8c-5550-4303-8248-fdea9909d456",
   "metadata": {
    "tags": []
   },
   "outputs": [],
   "source": [
    "\n",
    "aa=torch.Tensor([1,2,3,4,5])"
   ]
  },
  {
   "cell_type": "code",
   "execution_count": 187,
   "id": "d12a011e-8870-4c81-a4b0-0357ec680c6a",
   "metadata": {
    "tags": []
   },
   "outputs": [],
   "source": [
    "bb=torch.unique(aa)"
   ]
  },
  {
   "cell_type": "code",
   "execution_count": 189,
   "id": "28e32832-66e6-4ea9-9f70-ac7796084a24",
   "metadata": {
    "tags": []
   },
   "outputs": [
    {
     "data": {
      "text/plain": [
       "1"
      ]
     },
     "execution_count": 189,
     "metadata": {},
     "output_type": "execute_result"
    }
   ],
   "source": [
    "int(len(bb)==5\n",
    "   )\n"
   ]
  },
  {
   "cell_type": "code",
   "execution_count": 191,
   "id": "11ff0c90-b517-4309-9f50-c5c6a711c527",
   "metadata": {
    "tags": []
   },
   "outputs": [
    {
     "data": {
      "text/plain": [
       "[0,\n",
       " 1,\n",
       " 2,\n",
       " 3,\n",
       " 4,\n",
       " 5,\n",
       " 6,\n",
       " 7,\n",
       " 8,\n",
       " 9,\n",
       " 10,\n",
       " 11,\n",
       " 12,\n",
       " 13,\n",
       " 14,\n",
       " 15,\n",
       " 16,\n",
       " 17,\n",
       " 18,\n",
       " 19,\n",
       " 20,\n",
       " 21,\n",
       " 22,\n",
       " 23,\n",
       " 24,\n",
       " 25,\n",
       " 26,\n",
       " 27,\n",
       " 28,\n",
       " 29,\n",
       " 30,\n",
       " 31,\n",
       " 32,\n",
       " 33,\n",
       " 34,\n",
       " 35,\n",
       " 36,\n",
       " 37,\n",
       " 38,\n",
       " 39,\n",
       " 40,\n",
       " 41,\n",
       " 42,\n",
       " 43,\n",
       " 44,\n",
       " 45,\n",
       " 46,\n",
       " 47,\n",
       " 48,\n",
       " 49,\n",
       " 50,\n",
       " 51,\n",
       " 52,\n",
       " 53,\n",
       " 54,\n",
       " 55,\n",
       " 56,\n",
       " 57,\n",
       " 58,\n",
       " 59,\n",
       " 60,\n",
       " 61,\n",
       " 62,\n",
       " 63,\n",
       " 64,\n",
       " 65,\n",
       " 66,\n",
       " 67,\n",
       " 68,\n",
       " 69,\n",
       " 70,\n",
       " 71,\n",
       " 72,\n",
       " 73,\n",
       " 74,\n",
       " 75,\n",
       " 76,\n",
       " 77,\n",
       " 78,\n",
       " 79,\n",
       " 80,\n",
       " 81,\n",
       " 82,\n",
       " 83,\n",
       " 84,\n",
       " 85,\n",
       " 86,\n",
       " 87,\n",
       " 88,\n",
       " 89,\n",
       " 90,\n",
       " 91,\n",
       " 92,\n",
       " 93,\n",
       " 94,\n",
       " 95,\n",
       " 96,\n",
       " 97,\n",
       " 98,\n",
       " 99,\n",
       " 100,\n",
       " 101,\n",
       " 102,\n",
       " 103,\n",
       " 104,\n",
       " 105,\n",
       " 106,\n",
       " 107,\n",
       " 108,\n",
       " 109,\n",
       " 110,\n",
       " 111,\n",
       " 112,\n",
       " 113,\n",
       " 114,\n",
       " 115,\n",
       " 116,\n",
       " 117,\n",
       " 118]"
      ]
     },
     "execution_count": 191,
     "metadata": {},
     "output_type": "execute_result"
    }
   ],
   "source": [
    "list(range(0,119))"
   ]
  },
  {
   "cell_type": "code",
   "execution_count": 202,
   "id": "962154fe-6709-463e-941c-3880c6fd41a8",
   "metadata": {
    "tags": []
   },
   "outputs": [],
   "source": [
    "a=list(range(1,121))"
   ]
  },
  {
   "cell_type": "code",
   "execution_count": 203,
   "id": "1ebbd666-3ba8-45e8-9773-8d17efbc1f3e",
   "metadata": {
    "tags": []
   },
   "outputs": [],
   "source": [
    "for i in range(len(a)):\n",
    "    if i>60:\n",
    "        a[i]=123\n",
    "    else:\n",
    "        a[i]=1"
   ]
  },
  {
   "cell_type": "code",
   "execution_count": 206,
   "id": "3cb4f6e9-46c0-49e4-934a-0342f45ba5e0",
   "metadata": {
    "tags": []
   },
   "outputs": [
    {
     "data": {
      "text/plain": [
       "1"
      ]
     },
     "execution_count": 206,
     "metadata": {},
     "output_type": "execute_result"
    }
   ],
   "source": [
    "a[60]"
   ]
  },
  {
   "cell_type": "code",
   "execution_count": 207,
   "id": "180031a3-4220-403f-b869-f80dc354098e",
   "metadata": {
    "tags": []
   },
   "outputs": [
    {
     "data": {
      "text/plain": [
       "123"
      ]
     },
     "execution_count": 207,
     "metadata": {},
     "output_type": "execute_result"
    }
   ],
   "source": [
    "a[61]"
   ]
  },
  {
   "cell_type": "code",
   "execution_count": 208,
   "id": "8a05f1c3-9d92-4e58-93e3-ac1e53732fba",
   "metadata": {
    "tags": []
   },
   "outputs": [
    {
     "data": {
      "text/plain": [
       "[True,\n",
       " True,\n",
       " True,\n",
       " True,\n",
       " True,\n",
       " True,\n",
       " True,\n",
       " True,\n",
       " True,\n",
       " True,\n",
       " True,\n",
       " True,\n",
       " True,\n",
       " True,\n",
       " True,\n",
       " True,\n",
       " True,\n",
       " True,\n",
       " True,\n",
       " True,\n",
       " True,\n",
       " True,\n",
       " True,\n",
       " True,\n",
       " True,\n",
       " True,\n",
       " True,\n",
       " True,\n",
       " True,\n",
       " True,\n",
       " True,\n",
       " True,\n",
       " True,\n",
       " True,\n",
       " True,\n",
       " True,\n",
       " True,\n",
       " True,\n",
       " True,\n",
       " True,\n",
       " True,\n",
       " True,\n",
       " True,\n",
       " True,\n",
       " True,\n",
       " True,\n",
       " True,\n",
       " True,\n",
       " True,\n",
       " True,\n",
       " True,\n",
       " True,\n",
       " True,\n",
       " True,\n",
       " True,\n",
       " True,\n",
       " True,\n",
       " True,\n",
       " True,\n",
       " True,\n",
       " False,\n",
       " True,\n",
       " True,\n",
       " True,\n",
       " True,\n",
       " True,\n",
       " True,\n",
       " True,\n",
       " True,\n",
       " True,\n",
       " True,\n",
       " True,\n",
       " True,\n",
       " True,\n",
       " True,\n",
       " True,\n",
       " True,\n",
       " True,\n",
       " True,\n",
       " True,\n",
       " True,\n",
       " True,\n",
       " True,\n",
       " True,\n",
       " True,\n",
       " True,\n",
       " True,\n",
       " True,\n",
       " True,\n",
       " True,\n",
       " True,\n",
       " True,\n",
       " True,\n",
       " True,\n",
       " True,\n",
       " True,\n",
       " True,\n",
       " True,\n",
       " True,\n",
       " True,\n",
       " True,\n",
       " True,\n",
       " True,\n",
       " True,\n",
       " True,\n",
       " True,\n",
       " True,\n",
       " True,\n",
       " True,\n",
       " True,\n",
       " True,\n",
       " True,\n",
       " True,\n",
       " True,\n",
       " True,\n",
       " True,\n",
       " True,\n",
       " True,\n",
       " True]"
      ]
     },
     "execution_count": 208,
     "metadata": {},
     "output_type": "execute_result"
    }
   ],
   "source": [
    "[a[i] ==a[i+1]for i in range(len(a)-1)]"
   ]
  },
  {
   "cell_type": "code",
   "execution_count": 214,
   "id": "a07ffb5f-577b-4c4f-8dfd-47d37b4a3693",
   "metadata": {
    "tags": []
   },
   "outputs": [],
   "source": [
    "a=torch.Tensor([1])"
   ]
  },
  {
   "cell_type": "code",
   "execution_count": 215,
   "id": "0b14b190-1569-4faf-93d0-da439057b56b",
   "metadata": {
    "tags": []
   },
   "outputs": [
    {
     "data": {
      "text/plain": [
       "1"
      ]
     },
     "execution_count": 215,
     "metadata": {},
     "output_type": "execute_result"
    }
   ],
   "source": [
    "len(a)"
   ]
  },
  {
   "cell_type": "code",
   "execution_count": 216,
   "id": "d0be8f5c-44ac-45b5-9c63-f45e633693d1",
   "metadata": {
    "tags": []
   },
   "outputs": [
    {
     "data": {
      "text/plain": [
       "tensor([1.])"
      ]
     },
     "execution_count": 216,
     "metadata": {},
     "output_type": "execute_result"
    }
   ],
   "source": [
    "a"
   ]
  },
  {
   "cell_type": "code",
   "execution_count": null,
   "id": "f49af410-706b-496d-bfb1-c17858592d9d",
   "metadata": {},
   "outputs": [],
   "source": []
  },
  {
   "cell_type": "code",
   "execution_count": null,
   "id": "8ee36444-0cf7-4a8f-9dcd-1b4b4f9f3033",
   "metadata": {},
   "outputs": [],
   "source": []
  }
 ],
 "metadata": {
  "kernelspec": {
   "display_name": "deep_traj",
   "language": "python",
   "name": "deep_traj"
  },
  "language_info": {
   "codemirror_mode": {
    "name": "ipython",
    "version": 3
   },
   "file_extension": ".py",
   "mimetype": "text/x-python",
   "name": "python",
   "nbconvert_exporter": "python",
   "pygments_lexer": "ipython3",
   "version": "3.8.16"
  }
 },
 "nbformat": 4,
 "nbformat_minor": 5
}
